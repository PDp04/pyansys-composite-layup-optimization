{
 "cells": [
  {
   "cell_type": "code",
   "execution_count": 17,
   "id": "f7c0f52a-f60b-465f-86e7-60f77fb198be",
   "metadata": {},
   "outputs": [],
   "source": [
    "from ansys.mapdl.core import launch_mapdl\n",
    "import os\n",
    "\n",
    "script_dir = r'C:\\Pranav2.0\\8'\n",
    "mapdl = launch_mapdl(run_location=script_dir, override=True)\n"
   ]
  },
  {
   "cell_type": "code",
   "execution_count": 18,
   "id": "85ac4e9a-5e95-43a2-adc2-dde0198be563",
   "metadata": {},
   "outputs": [
    {
     "data": {
      "text/plain": [
       "*****MAPDL VERIFICATION RUN ONLY*****\n",
       "     DO NOT USE RESULTS FOR PRODUCTION\n",
       "\n",
       "          ***** MAPDL ANALYSIS DEFINITION (PREP7) *****"
      ]
     },
     "execution_count": 18,
     "metadata": {},
     "output_type": "execute_result"
    }
   ],
   "source": [
    "# 1. Enter AUX15 for IGES import\n",
    "mapdl.aux15()\n",
    "mapdl.igesin('Design1.igs')\n",
    "\n",
    "# 2. Return to BEGIN (the default processor)\n",
    "mapdl.finish()  # This brings you back to the BEGIN level\n",
    "\n",
    "# 3. Now enter PREP7 for element and meshing commands\n",
    "mapdl.prep7()\n"
   ]
  },
  {
   "cell_type": "code",
   "execution_count": 19,
   "id": "7792d941-304b-47ba-8e24-d2f07a5a9361",
   "metadata": {},
   "outputs": [
    {
     "name": "stdout",
     "output_type": "stream",
     "text": [
      "Meshing complete. All faces meshed with 1mm elements.\n"
     ]
    }
   ],
   "source": [
    "# Define shell element properties\n",
    "mapdl.et(1, \"SHELL181\")\n",
    "mapdl.sectype(1, \"SHELL\")\n",
    "mapdl.secdata(0.000125)  # Set thickness\n",
    "\n",
    "# Set element size to 1 mm\n",
    "mapdl.esize(5.0)  # Uniform element size\n",
    "\n",
    "# Select all areas (faces) and mesh them\n",
    "mapdl.asel(\"ALL\")  # Select all areas\n",
    "mapdl.amesh(\"ALL\")  # Mesh all selected areas\n",
    "\n",
    "print(\"Meshing complete. All faces meshed with 1mm elements.\")"
   ]
  },
  {
   "cell_type": "code",
   "execution_count": 20,
   "id": "186005b9-969d-44c7-a375-9b1aaf533334",
   "metadata": {},
   "outputs": [
    {
     "name": "stdout",
     "output_type": "stream",
     "text": [
      "[82, 87, 110]\n"
     ]
    },
    {
     "data": {
      "application/vnd.jupyter.widget-view+json": {
       "model_id": "40b5cb5435c54fbbb00664658a5e025a",
       "version_major": 2,
       "version_minor": 0
      },
      "text/plain": [
       "Widget(value='<iframe src=\"http://localhost:58669/index.html?ui=P_0x13784bc6ae0_5&reconnect=auto\" class=\"pyvis…"
      ]
     },
     "metadata": {},
     "output_type": "display_data"
    }
   ],
   "source": [
    "# 6. Plot the mesh\n",
    "mesh_plot = mapdl.eplot()"
   ]
  },
  {
   "cell_type": "code",
   "execution_count": 21,
   "id": "77e7f316-4e16-4549-975f-ad3ec787c640",
   "metadata": {},
   "outputs": [
    {
     "name": "stdout",
     "output_type": "stream",
     "text": [
      "Exported CDB file: C:\\Pranav2.0\\8\\Design1_mesh.cdb\n"
     ]
    }
   ],
   "source": [
    "# 3. Export the mesh to CDB in the script's directory\n",
    "cdb_filename = \"Design1_mesh\"\n",
    "mapdl.cdwrite(\"db\", cdb_filename, \"cdb\")\n",
    "\n",
    "# 4. Confirm the file location\n",
    "exported_file = os.path.join(script_dir, cdb_filename + \".cdb\")\n",
    "if os.path.exists(exported_file):\n",
    "    print(f\"Exported CDB file: {exported_file}\")\n",
    "else:\n",
    "    print(\"Error: CDB file not found in script directory!\")"
   ]
  },
  {
   "cell_type": "code",
   "execution_count": 22,
   "id": "8437ddc9-0162-42ff-936c-cd217454c178",
   "metadata": {},
   "outputs": [
    {
     "name": "stdout",
     "output_type": "stream",
     "text": [
      "MAPDL Selected Geometry\n",
      "Keypoints:  45\n",
      "Lines:      42\n",
      "Areas:      9\n",
      "Volumes:    0\n",
      "\n"
     ]
    }
   ],
   "source": [
    "print(mapdl.geometry)"
   ]
  },
  {
   "cell_type": "code",
   "execution_count": 23,
   "id": "7ff9baa8-eddd-4dc2-a9a6-4f050125f60f",
   "metadata": {},
   "outputs": [
    {
     "data": {
      "text/plain": [
       "LIST ALL SELECTED AREAS.\n",
       "   *****MAPDL VERIFICATION RUN ONLY*****\n",
       "     DO NOT USE RESULTS FOR PRODUCTION\n",
       " NUMBER LOOP  LINES                     AREA       ELEM SIZE    #NODES  #ELEM    MAT   REAL   TYP  ESYS   SECN\n",
       "     10  1     31     30     29     28   N/A         0.000        1035   1898     -1     -1    -1     0     -1\n",
       "     11  1     43     42     41     40   N/A         0.000        1031   1855     -1     -1    -1     0     -1\n",
       "     12  1     29     54     43     52   N/A         0.000         624   1365     -1     -1    -1     0     -1\n",
       "     13  1     41     66     31     64   N/A         0.000         249    574     -1     -1    -1     0     -1\n",
       "     14  1     79     78     77     76  0.5523E+05   0.000        1944   2144     -1     -1    -1     0     -1\n",
       "         2     87     86     85     84\n",
       "     15  1     96     42     98     87   N/A         0.000         244    560     -1     -1    -1     0     -1\n",
       "     16  1     54    109     86     98   N/A         0.000         323    745     -1     -1    -1     0     -1\n",
       "     17  1    109     30    122     85   N/A         0.000         225    523     -1     -1    -1     0     -1\n",
       "     18  1    122     66     96     84   N/A         0.000          98    238     -1     -1    -1     0     -1"
      ]
     },
     "execution_count": 23,
     "metadata": {},
     "output_type": "execute_result"
    }
   ],
   "source": [
    "mapdl.pnum('area', 1)\n",
    "mapdl.alist()"
   ]
  },
  {
   "cell_type": "code",
   "execution_count": 24,
   "id": "dd59e5b1-befa-4dc9-8984-43b6cc0a597d",
   "metadata": {},
   "outputs": [
    {
     "name": "stdout",
     "output_type": "stream",
     "text": [
      "[82, 87, 110]\n"
     ]
    },
    {
     "data": {
      "application/vnd.jupyter.widget-view+json": {
       "model_id": "98a3306efe3c4853bfb5103167bf7ea8",
       "version_major": 2,
       "version_minor": 0
      },
      "text/plain": [
       "Widget(value='<iframe src=\"http://localhost:58669/index.html?ui=P_0x13784bc7fb0_6&reconnect=auto\" class=\"pyvis…"
      ]
     },
     "metadata": {},
     "output_type": "display_data"
    }
   ],
   "source": [
    "#see from the above alist and select the area of the frame fillet using hit and trial\n",
    "mapdl.asel('S', 'AREA', '', 15,18)\n",
    "mapdl.nsla('s', 1)\n",
    "mapdl.nplot()"
   ]
  },
  {
   "cell_type": "code",
   "execution_count": 25,
   "id": "065853d2-dfdd-424f-b2fe-4f82c2085ac4",
   "metadata": {},
   "outputs": [
    {
     "data": {
      "text/plain": [
       "DELETE SELECTED NODES FROM     100000 TO     100002 BY          1"
      ]
     },
     "execution_count": 25,
     "metadata": {},
     "output_type": "execute_result"
    }
   ],
   "source": [
    "mapdl.n('100000',0,0,0)\n",
    "mapdl.n('100001',1e-2,0,0)\n",
    "mapdl.n('100002',1e-2,1e-2,0)\n",
    "mapdl.cs('8001',1,100000,100001,100002)\n",
    "mapdl.csys(8001)\n",
    "\n",
    "mapdl.ndele(100000,100002,1)\n",
    "    "
   ]
  },
  {
   "cell_type": "code",
   "execution_count": 26,
   "id": "85cb21a4-f165-43de-a7e7-aaedb9ef0f86",
   "metadata": {},
   "outputs": [
    {
     "name": "stdout",
     "output_type": "stream",
     "text": [
      "[82, 87, 110]\n"
     ]
    },
    {
     "data": {
      "application/vnd.jupyter.widget-view+json": {
       "model_id": "6d483c19c92542abbb69233dd75ee01f",
       "version_major": 2,
       "version_minor": 0
      },
      "text/plain": [
       "Widget(value='<iframe src=\"http://localhost:58669/index.html?ui=P_0x13784bde6c0_7&reconnect=auto\" class=\"pyvis…"
      ]
     },
     "metadata": {},
     "output_type": "display_data"
    }
   ],
   "source": [
    "mapdl.cmdele('all')\n",
    "def frame_sel():\n",
    "    mapdl.asel('S', 'AREA', '', 15,18)\n",
    "    mapdl.nsla('s', 1)\n",
    "\n",
    "frame_sel()\n",
    "mapdl.nsel('r','loc','y',-0.5,0.5)\n",
    "mapdl.cm('te_1','node')\n",
    "mapdl.cmplot('te_1','node')\n"
   ]
  },
  {
   "cell_type": "code",
   "execution_count": 27,
   "id": "6d1ff6ba-cee2-4073-af3e-d35140b09a29",
   "metadata": {},
   "outputs": [
    {
     "name": "stdout",
     "output_type": "stream",
     "text": [
      "[82, 87, 110]\n"
     ]
    },
    {
     "data": {
      "application/vnd.jupyter.widget-view+json": {
       "model_id": "dad9043312b245a78ecab16231d66e58",
       "version_major": 2,
       "version_minor": 0
      },
      "text/plain": [
       "Widget(value='<iframe src=\"http://localhost:58669/index.html?ui=P_0x13784bde5d0_8&reconnect=auto\" class=\"pyvis…"
      ]
     },
     "metadata": {},
     "output_type": "display_data"
    }
   ],
   "source": [
    "frame_sel()\n",
    "mapdl.nsel('r','loc','y',175,185)\n",
    "mapdl.cm('le_1','node')\n",
    "mapdl.cmplot('le_1','node')"
   ]
  },
  {
   "cell_type": "code",
   "execution_count": 28,
   "id": "cc514945-2ded-46d7-81f6-f1914af1ca14",
   "metadata": {},
   "outputs": [],
   "source": [
    "for i in range (2,16):\n",
    "    frame_sel()\n",
    "    mapdl.nsel('r','loc','y',(i/2)-0.5,i/2) # 1 degree \n",
    "    mapdl.cm(f'te_r_{i}','node')\n",
    "    frame_sel()\n",
    "    mapdl.nsel('r','loc','y',-((i/2)-0.5),-i/2) # 1 degree\n",
    "    mapdl.cm(f'te_l_{i}','node')\n",
    "    frame_sel()\n",
    "    mapdl.nsel('r','loc','y',180+(2.5*i),180+(5*i)) # 5 degree\n",
    "    mapdl.cm(f'le_l_{i}','node')\n",
    "    frame_sel()\n",
    "    mapdl.nsel('r','loc','y',180-(2.5*i),180-(5*i)) # 5 degree\n",
    "    mapdl.cm(f'le_r_{i}','node')"
   ]
  },
  {
   "cell_type": "code",
   "execution_count": 29,
   "id": "ed8ce7b9-6a5d-4168-b1d6-568e18bf3bea",
   "metadata": {},
   "outputs": [
    {
     "name": "stdout",
     "output_type": "stream",
     "text": [
      "[82, 87, 110]\n"
     ]
    },
    {
     "data": {
      "application/vnd.jupyter.widget-view+json": {
       "model_id": "bb69bd46e5594a0fb9dad0de2f21bc75",
       "version_major": 2,
       "version_minor": 0
      },
      "text/plain": [
       "Widget(value='<iframe src=\"http://localhost:58669/index.html?ui=P_0x13784bddb20_9&reconnect=auto\" class=\"pyvis…"
      ]
     },
     "metadata": {},
     "output_type": "display_data"
    }
   ],
   "source": [
    "mapdl.cmplot('all','node')\n",
    "components = mapdl.cmlist('all',1,'node')\n",
    "with open('mapdl_components.txt', 'w') as f:\n",
    "    f.write(components)"
   ]
  },
  {
   "cell_type": "code",
   "execution_count": 30,
   "id": "2eb0b967-ed56-4efb-99e5-3a2957ec8533",
   "metadata": {},
   "outputs": [
    {
     "name": "stdout",
     "output_type": "stream",
     "text": [
      "CSV file 'components_nodes.csv' created successfully.\n"
     ]
    }
   ],
   "source": [
    "import re\n",
    "import csv\n",
    "\n",
    "# Replace this with reading from a file if needed\n",
    "component_text = components\n",
    "components = {}\n",
    "current_comp = None\n",
    "for line in component_text.split('\\n'):\n",
    "    line = line.strip()\n",
    "    if not line:\n",
    "        continue\n",
    "    # Detect component name line\n",
    "    comp_match = re.match(r'^([A-Z0-9_]+)\\s+YES\\s+NODE$', line)\n",
    "    if comp_match:\n",
    "        current_comp = comp_match.group(1)\n",
    "        components[current_comp] = []\n",
    "        continue\n",
    "    # Parse node numbers lines\n",
    "    if current_comp:\n",
    "        nodes = re.findall(r'\\d+', line)\n",
    "        components[current_comp].extend(nodes)\n",
    "\n",
    "# Write to CSV\n",
    "with open('components_nodes.csv', 'w', newline='') as csvfile:\n",
    "    writer = csv.writer(csvfile)\n",
    "    writer.writerow(['Component', 'Node'])\n",
    "    for comp, nodes in components.items():\n",
    "        for node in nodes:\n",
    "            writer.writerow([comp, node])\n",
    "\n",
    "print(\"CSV file 'components_nodes.csv' created successfully.\")\n"
   ]
  },
  {
   "cell_type": "code",
   "execution_count": 31,
   "id": "404f2ac6-8a3e-4905-888c-21c919067f9f",
   "metadata": {},
   "outputs": [],
   "source": [
    "mapdl.exit()\n"
   ]
  },
  {
   "cell_type": "code",
   "execution_count": 32,
   "id": "7c65910e-b583-4a23-a863-cea6efed5d15",
   "metadata": {},
   "outputs": [
    {
     "name": "stdout",
     "output_type": "stream",
     "text": [
      "Successfully processed file. Modified version saved to:\n",
      "Design1_mesh_MODIFIED.cdb\n"
     ]
    }
   ],
   "source": [
    "#this code is just because there is some update issue, so to avoid error, etblock has to be changed\n",
    "\n",
    "def replace_etblock_in_cdb(input_cdb_path: str, output_cdb_path: str):\n",
    "    \"\"\"\n",
    "    Reads an ANSYS CDB file, finds the 'ETBLOCK' section, and replaces the\n",
    "    entire block with a single 'ET,1,SHELL181' command.\n",
    "\n",
    "    This is used to fix compatibility issues with older parsers that do not\n",
    "    recognize the ETBLOCK format.\n",
    "\n",
    "    Args:\n",
    "        input_cdb_path (str): The full path to the original .cdb file.\n",
    "        output_cdb_path (str): The full path where the modified .cdb file will be saved.\n",
    "    \"\"\"\n",
    "    try:\n",
    "        with open(input_cdb_path, 'r') as f_in:\n",
    "            lines = f_in.readlines()\n",
    "    except FileNotFoundError:\n",
    "        print(f\"Error: The input file was not found at '{input_cdb_path}'\")\n",
    "        return\n",
    "\n",
    "    new_lines = []\n",
    "    is_in_etblock = False\n",
    "\n",
    "    # 1. Process the file line by line\n",
    "    for line in lines:\n",
    "        # 2. Detect the start of the ETBLOCK\n",
    "        #    The .strip() removes leading/trailing whitespace for robust detection.\n",
    "        if line.strip().startswith('ETBLOCK'):\n",
    "            is_in_etblock = True\n",
    "            # 3. Add the replacement line ONCE and continue to the next line\n",
    "            new_lines.append('ET,1,SHELL181\\n')\n",
    "            continue\n",
    "\n",
    "        # 4. If we are inside the block, we need to find its end\n",
    "        if is_in_etblock:\n",
    "            # The block ends with a line containing only '-1'\n",
    "            if line.strip() == '-1':\n",
    "                is_in_etblock = False  # The block has ended, resume normal processing\n",
    "            # Skip the current line because it's part of the block we are removing\n",
    "            continue\n",
    "\n",
    "        # 5. If not inside the ETBLOCK, just add the original line to our new file\n",
    "        new_lines.append(line)\n",
    "\n",
    "    # 6. Write the modified content to the new output file\n",
    "    try:\n",
    "        with open(output_cdb_path, 'w') as f_out:\n",
    "            f_out.writelines(new_lines)\n",
    "        print(f\"Successfully processed file. Modified version saved to:\\n{output_cdb_path}\")\n",
    "    except IOError as e:\n",
    "        print(f\"Error: Could not write to the output file '{output_cdb_path}'.\\nDetails: {e}\")\n",
    "\n",
    "\n",
    "# --- HOW TO USE ---\n",
    "\n",
    "# 1. Define the name of your original and new CDB files\n",
    "original_file = 'Design1_mesh.cdb'\n",
    "modified_file = 'Design1_mesh_MODIFIED.cdb'\n",
    "\n",
    "# 2. Run the function\n",
    "replace_etblock_in_cdb(original_file, modified_file)\n",
    "\n",
    "# Now, use 'Design1_mesh_MODIFIED.cdb' in your PyACP import script.\n"
   ]
  },
  {
   "cell_type": "code",
   "execution_count": 33,
   "id": "07d2ac95-6000-429e-83c2-18dafebffe7e",
   "metadata": {},
   "outputs": [],
   "source": [
    "import pathlib\n",
    "import numpy as np\n",
    "import ansys.acp.core as pyacp\n",
    "from ansys.acp.core import FabricWithAngle, PlyType, SymmetryType, RosetteType\n",
    "from ansys.acp.core.material_property_sets import (\n",
    "    ConstantEngineeringConstants, ConstantStrainLimits, ConstantStressLimits\n",
    ")\n",
    "#from ansys.acp.core.plotting import get_directions_plotter\n"
   ]
  },
  {
   "cell_type": "code",
   "execution_count": 34,
   "id": "47fef648-823f-427b-955a-3647ca6f170c",
   "metadata": {},
   "outputs": [
    {
     "name": "stdout",
     "output_type": "stream",
     "text": [
      "Model imported successfully.\n"
     ]
    }
   ],
   "source": [
    "# Launch the ACP server\n",
    "acp = pyacp.launch_acp()\n",
    "\n",
    "# Define the path to your CDB file\n",
    "# IMPORTANT: Make sure this path is correct!\n",
    "cdb_file_path = pathlib.Path(r\"C:\\Pranav2.0\\7\\Design1_mesh_MODIFIED.cdb\")\n",
    "\n",
    "# Import the model from the CDB file\n",
    "model = acp.import_model(\n",
    "    path=str(cdb_file_path),\n",
    "    format=\"ansys:cdb\",\n",
    "    unit_system=pyacp.UnitSystemType.SI  # Using SI units (Pascals, meters, etc.)\n",
    ")\n",
    "print(\"Model imported successfully.\")\n",
    "\n"
   ]
  },
  {
   "cell_type": "code",
   "execution_count": 35,
   "id": "5b15a54a-ed4f-4bbd-9947-48a18e44534d",
   "metadata": {},
   "outputs": [
    {
     "data": {
      "application/vnd.jupyter.widget-view+json": {
       "model_id": "876c1aa158cc4171980e858473431baf",
       "version_major": 2,
       "version_minor": 0
      },
      "text/plain": [
       "Widget(value='<iframe src=\"http://localhost:58669/index.html?ui=P_0x137affeb9b0_10&reconnect=auto\" class=\"pyvi…"
      ]
     },
     "metadata": {},
     "output_type": "display_data"
    }
   ],
   "source": [
    "import pyvista as pv\n",
    "mesh = model.mesh.to_pyvista()\n",
    "plotter = pv.Plotter()\n",
    "plotter.add_mesh(mesh, show_edges=True)\n",
    "plotter.show()"
   ]
  },
  {
   "cell_type": "code",
   "execution_count": 36,
   "id": "faee53be-b8be-4f44-8ebe-acb02be99763",
   "metadata": {},
   "outputs": [],
   "source": [
    "# ==============================================================================\n",
    "# Engineering constants in SI units (Pascals for moduli)\n",
    "engineering_constants_ud = ConstantEngineeringConstants.from_orthotropic_constants(\n",
    "    E1=5e10, E2=1e10, E3=1e10,\n",
    "    nu12=0.28, nu13=0.28, nu23=0.3,\n",
    "    G12=5e9, G23=4e9, G31=4e9\n",
    ")\n",
    "\n",
    "# Strain limits (dimensionless)\n",
    "strain_limit_tension = 0.01\n",
    "strain_limit_compression = -0.008\n",
    "strain_limit_shear = 0.012\n",
    "strain_limits = ConstantStrainLimits.from_orthotropic_constants(\n",
    "    eXc=strain_limit_compression, eYc=strain_limit_compression, eZc=strain_limit_compression,\n",
    "    eXt=strain_limit_tension, eYt=strain_limit_tension, eZt=strain_limit_tension,\n",
    "    eSxy=strain_limit_shear, eSyz=strain_limit_shear, eSxz=strain_limit_shear\n",
    ")\n",
    "\n",
    "# Stress limits in SI units (Pascals)\n",
    "stress_limits = ConstantStressLimits.from_orthotropic_constants(\n",
    "    Xt=7.8e8, Yt=3.1e7, Zt=3.1e7,\n",
    "    Xc=-4.8e8, Yc=-1e8, Zc=-1e8,\n",
    "    Sxy=3.5e7, Syz=2.5e7, Sxz=3.5e7\n",
    ")\n",
    "\n"
   ]
  },
  {
   "cell_type": "code",
   "execution_count": 37,
   "id": "1afedf52-cd95-4c64-8350-ec02f2c28d64",
   "metadata": {},
   "outputs": [
    {
     "name": "stdout",
     "output_type": "stream",
     "text": [
      "Material 'E-Glass UD' created.\n"
     ]
    }
   ],
   "source": [
    "ud_material = model.create_material(\n",
    "    name=\"E-Glass UD\",\n",
    "    ply_type=PlyType.REGULAR,\n",
    "    engineering_constants=engineering_constants_ud,\n",
    "    strain_limits=strain_limits,\n",
    "    stress_limits=stress_limits,\n",
    ")\n",
    "print(f\"Material '{ud_material.name}' created.\")"
   ]
  },
  {
   "cell_type": "code",
   "execution_count": 38,
   "id": "bb9d5356-bc13-4f78-b58f-02e82c3e8447",
   "metadata": {},
   "outputs": [
    {
     "name": "stdout",
     "output_type": "stream",
     "text": [
      "Fabric 'E-Glass UD 0.125mm' created.\n"
     ]
    }
   ],
   "source": [
    "ud_fabric_0125mm = model.create_fabric(\n",
    "    name=\"E-Glass UD 0.125mm\",\n",
    "    material=ud_material,\n",
    "    thickness=0.000125  # meters\n",
    ")\n",
    "print(f\"Fabric '{ud_fabric_0125mm.name}' created.\")\n"
   ]
  },
  {
   "cell_type": "code",
   "execution_count": 39,
   "id": "06dbaa9f-cef0-444d-a6c6-4ec886790197",
   "metadata": {},
   "outputs": [
    {
     "name": "stdout",
     "output_type": "stream",
     "text": [
      "Stackup 'Biax E-Glass UD [0,45,-45,90]s' created.\n"
     ]
    }
   ],
   "source": [
    "biax_glass_ud = model.create_stackup(\n",
    "    name=\"Biax E-Glass UD [0,45,-45,90]s\",\n",
    "    fabrics=[\n",
    "        FabricWithAngle(ud_fabric_0125mm, 0),\n",
    "        FabricWithAngle(ud_fabric_0125mm, 45),\n",
    "        FabricWithAngle(ud_fabric_0125mm, -45),\n",
    "        FabricWithAngle(ud_fabric_0125mm, 90),\n",
    "    ],\n",
    "    symmetry=SymmetryType.EVEN_SYMMETRY,\n",
    ")\n",
    "print(f\"Stackup '{biax_glass_ud.name}' created.\")"
   ]
  },
  {
   "cell_type": "code",
   "execution_count": 40,
   "id": "203d95d0-bc0c-4797-91fc-c805ccb47638",
   "metadata": {},
   "outputs": [
    {
     "name": "stdout",
     "output_type": "stream",
     "text": [
      "Rosette 'ParallelRosette' created.\n"
     ]
    }
   ],
   "source": [
    "parallel_rosette_45_deg = model.create_rosette(\n",
    "    name=\"ParallelRosette\",\n",
    "    rosette_type=RosetteType.PARALLEL,\n",
    "    origin=[0., 0., 0.],\n",
    "    # Directions defining a plane rotated 45 degrees around the Y-axis\n",
    "    dir1=[1, 0., 0],\n",
    "    dir2=[0, 0., 1],\n",
    ")\n",
    "print(f\"Rosette '{parallel_rosette_45_deg.name}' created.\")\n",
    "\n"
   ]
  },
  {
   "cell_type": "code",
   "execution_count": 41,
   "id": "72be690b-a177-41b8-8af8-3359ba34ab53",
   "metadata": {},
   "outputs": [],
   "source": [
    "oss = model.create_oriented_selection_set(\n",
    "    name=\"oss\",\n",
    "    orientation_point=(0.0, 0.0, 0.0),\n",
    "    orientation_direction=(0.0, 1.0, 0),\n",
    "    element_sets=[model.element_sets[\"All_Elements\"]],\n",
    "    rosettes=[parallel_rosette_45_deg],\n",
    ")\n",
    "\n",
    "model.update()"
   ]
  },
  {
   "cell_type": "code",
   "execution_count": 42,
   "id": "611639ac-2ead-4c49-b4ff-6cb9c3d40d96",
   "metadata": {},
   "outputs": [
    {
     "data": {
      "application/vnd.jupyter.widget-view+json": {
       "model_id": "67ac84610b3d4a86ad85767f52fe738a",
       "version_major": 2,
       "version_minor": 0
      },
      "text/plain": [
       "Widget(value='<iframe src=\"http://localhost:58669/index.html?ui=P_0x137afe11280_11&reconnect=auto\" class=\"pyvi…"
      ]
     },
     "metadata": {},
     "output_type": "display_data"
    }
   ],
   "source": [
    "from ansys.acp.core import get_directions_plotter\n",
    "plotter = get_directions_plotter(\n",
    "    model=model, components=[oss.elemental_data.orientation, oss.elemental_data.reference_direction]\n",
    ")\n",
    "plotter.show()"
   ]
  },
  {
   "cell_type": "code",
   "execution_count": 43,
   "id": "be213bdb-2f97-4506-ad1b-e90dd1b347f1",
   "metadata": {},
   "outputs": [],
   "source": [
    "mapdl = launch_mapdl(run_location=script_dir, override=True)"
   ]
  },
  {
   "cell_type": "code",
   "execution_count": 44,
   "id": "1240c07e-0049-48ee-a80a-15b351a2620b",
   "metadata": {},
   "outputs": [
    {
     "name": "stdout",
     "output_type": "stream",
     "text": [
      "Complete analysis model has been exported to:\n",
      "C:\\Pranav2.0\\8\\Design1_ACP_Analysis.cdb\n"
     ]
    }
   ],
   "source": [
    "# Assume 'model' is your fully defined PyACP model object.\n",
    "# First, you MUST update the model to apply the layup to the mesh.\n",
    "model.update()\n",
    "\n",
    "# Define the path for the output file\n",
    "# It's best practice to use os.getcwd() to ensure it's in your script's directory\n",
    "output_dir = script_dir\n",
    "analysis_model_path = os.path.join(output_dir, \"Design1_ACP_Analysis.cdb\")\n",
    "\n",
    "# Export the entire analysis model to a single CDB file.\n",
    "# This is the key command for the direct transfer workflow [1, 3, 5].\n",
    "model.export_analysis_model(analysis_model_path)\n",
    "\n",
    "print(f\"Complete analysis model has been exported to:\\n{analysis_model_path}\")\n"
   ]
  },
  {
   "cell_type": "code",
   "execution_count": 45,
   "id": "620e1ed9-cf54-46af-aef0-038fe94ef257",
   "metadata": {},
   "outputs": [
    {
     "name": "stdout",
     "output_type": "stream",
     "text": [
      "Composite model successfully imported into PyMAPDL.\n"
     ]
    }
   ],
   "source": [
    "analysis_model_path = os.path.join(script_dir, \"Design1_ACP_Analysis.cdb\")\n",
    "# Load the entire composite model using mapdl.input() [1, 5]\n",
    "mapdl.input(analysis_model_path)\n",
    "print(\"Composite model successfully imported into PyMAPDL.\")"
   ]
  },
  {
   "cell_type": "code",
   "execution_count": 46,
   "id": "9d1bbfdc-650d-4eb0-b7e8-ec0f7728dc29",
   "metadata": {},
   "outputs": [
    {
     "name": "stdout",
     "output_type": "stream",
     "text": [
      "Entered PREP7 processor.\n"
     ]
    }
   ],
   "source": [
    "# Enter the pre-processor to define loads and boundary conditions\n",
    "mapdl.prep7()\n",
    "print(\"Entered PREP7 processor.\")\n",
    "\n",
    "# --- Get node coordinate information for selection ---\n",
    "nodes = mapdl.mesh.nodes"
   ]
  },
  {
   "cell_type": "code",
   "execution_count": 47,
   "id": "933ed40d-341f-4ac6-b5d3-6218954183b8",
   "metadata": {},
   "outputs": [
    {
     "data": {
      "text/plain": [
       "REAL CONSTANT SET          2  ITEMS   1 TO   6\n",
       "   0.10000E-11   0.0000       0.0000       0.0000       0.0000       0.0000"
      ]
     },
     "execution_count": 47,
     "metadata": {},
     "output_type": "execute_result"
    }
   ],
   "source": [
    "mapdl.et('2','MASS21')\n",
    "mapdl.r('2',1e-12)"
   ]
  },
  {
   "cell_type": "code",
   "execution_count": 48,
   "id": "d42026db-9eb2-476e-81eb-fbc138230ed5",
   "metadata": {},
   "outputs": [
    {
     "data": {
      "text/plain": [
       "array([3299, 3378, 3379, 3380, 3381, 3382, 3383, 3384, 3385, 3386, 3387,\n",
       "       3388, 3389, 3390, 3391, 3392, 3393, 3394, 3395, 3396, 3397, 3398,\n",
       "       3399, 3400, 3401, 3402, 3403, 3404, 3405, 3406, 3407, 3408, 3409,\n",
       "       3410, 3411, 3412, 3413, 3414, 3415, 3416, 3417, 3418, 3419, 3420,\n",
       "       3421, 3422, 3423, 3424, 3425], dtype=int32)"
      ]
     },
     "execution_count": 48,
     "metadata": {},
     "output_type": "execute_result"
    }
   ],
   "source": [
    "TOL = 1.0E-6\n",
    "mapdl.allsel('all')\n",
    "mapdl.get('x_min_model', 'NODE', '0', 'MNLOC','X')\n",
    "mapdl.get('x_max_model', 'NODE', '0', 'MXLOC','X')\n",
    "mapdl.get('y_min_model', 'NODE', '0', 'MNLOC','Y')\n",
    "mapdl.get('y_max_model', 'NODE', '0', 'MXLOC','Y')\n",
    "mapdl.get('z_level','NODE','0', 'MNLOC','Z')\n",
    "mapdl.nsel('S','LOC, Z', '(z_level - TOL)', '(z_level + TOL)')\n"
   ]
  },
  {
   "cell_type": "code",
   "execution_count": 49,
   "id": "2237e38c-37c8-4a5a-bdad-aa12018c3b77",
   "metadata": {},
   "outputs": [
    {
     "data": {
      "text/plain": [
       "array([3299, 3300, 3301, 3302, 3303, 3304, 3305, 3306, 3307, 3308, 3309,\n",
       "       3310, 3311, 3312, 3313, 3314, 3315, 3316, 3317, 3318, 3319, 3320,\n",
       "       3321, 3322, 3323, 3324, 3325, 3326, 3327, 3328, 3329, 3330, 3331,\n",
       "       3332, 3333, 3334, 3335, 3336, 3337, 3338, 3339, 3340, 3341, 3342,\n",
       "       3343, 3344, 3345, 3346, 3347, 3348, 3349, 3350, 3351, 3352, 3353,\n",
       "       3354, 3355, 3356, 3357, 3358, 3359, 3360, 3361, 3362, 3363, 3364,\n",
       "       3365, 3366, 3367, 3368, 3369, 3370, 3371, 3372, 3373, 3374, 3375,\n",
       "       3376, 3377, 3378, 3379, 3380, 3381, 3382, 3383, 3384, 3385, 3386,\n",
       "       3387, 3388, 3389, 3390, 3391, 3392, 3393, 3394, 3395, 3396, 3397,\n",
       "       3398, 3399, 3400, 3401, 3402, 3403, 3404, 3405, 3406, 3407, 3408,\n",
       "       3409, 3410, 3411, 3412, 3413, 3414, 3415, 3416, 3417, 3418, 3419,\n",
       "       3420, 3421, 3422, 3423, 3424, 3425, 3426, 3427, 3428, 3429, 3430,\n",
       "       3431, 3432, 3433, 3434, 3435, 3436, 3437, 3438, 3439, 3440, 3441,\n",
       "       3442, 3443, 3444, 3445, 3446, 3447, 3448, 3449, 3450, 3451, 3452,\n",
       "       3453, 3454, 3455, 3456, 3457, 3458, 3459, 3460, 3461, 3462, 3463,\n",
       "       3464, 3465, 3466, 3467, 3468, 3469, 3470, 3471, 3472, 3473, 3474,\n",
       "       3475, 3476, 3477, 3478, 3479, 3480, 3481, 3482, 3483, 3484, 3485,\n",
       "       3486, 3487, 3488, 3489, 3490, 3491, 3492, 3493, 3494, 3495, 3496,\n",
       "       3497, 3498, 3499, 3500, 3501, 3502, 3503, 3504, 3505, 3506, 3507,\n",
       "       3508, 3509, 3510, 3511, 3512, 3513, 3514, 3515, 3516, 3517, 3518,\n",
       "       3519, 3520, 3521, 3522, 3523, 3524, 3525, 3526, 3527, 3528, 3529,\n",
       "       3530, 3531, 3532, 3533, 3534, 3535, 3536, 3537, 3538, 3539, 3540,\n",
       "       3541, 3542, 3543, 3544, 3545, 3546, 3547, 3548, 3549, 3550],\n",
       "      dtype=int32)"
      ]
     },
     "execution_count": 49,
     "metadata": {},
     "output_type": "execute_result"
    }
   ],
   "source": [
    "mapdl.nsel('A', 'LOC, X', '(x_min_model - TOL)', '(x_min_model + TOL)')\n",
    "mapdl.nsel('A', 'LOC, X', '(x_max_model - TOL)', '(x_max_model + TOL)')\n",
    "mapdl.nsel('A', 'LOC, Y', '(y_min_model - TOL)', '(y_min_model + TOL)')\n",
    "mapdl.nsel('A', 'LOC, Y', '(y_max_model - TOL)', '(y_max_model + TOL)')"
   ]
  },
  {
   "cell_type": "code",
   "execution_count": 50,
   "id": "97840e09-3c84-4e3c-9a33-750e546d3446",
   "metadata": {},
   "outputs": [
    {
     "name": "stdout",
     "output_type": "stream",
     "text": [
      "[82, 87, 110]\n"
     ]
    },
    {
     "data": {
      "application/vnd.jupyter.widget-view+json": {
       "model_id": "ed56307547994bfab900423822a92018",
       "version_major": 2,
       "version_minor": 0
      },
      "text/plain": [
       "Widget(value='<iframe src=\"http://localhost:58669/index.html?ui=P_0x137b3562660_12&reconnect=auto\" class=\"pyvi…"
      ]
     },
     "metadata": {},
     "output_type": "display_data"
    }
   ],
   "source": [
    "mapdl.nplot()"
   ]
  },
  {
   "cell_type": "code",
   "execution_count": 51,
   "id": "448b002d-15a7-419a-88ee-c6dc3f3c63b6",
   "metadata": {},
   "outputs": [
    {
     "data": {
      "text/plain": [
       "SPECIFIED CONSTRAINT UX   FOR SELECTED NODES            1 TO        6559 BY           1\n",
       " REAL=  0.00000000       IMAG=  0.00000000    \n",
       " ADDITIONAL DOFS=  UY    UZ    ROTX  ROTY  ROTZ"
      ]
     },
     "execution_count": 51,
     "metadata": {},
     "output_type": "execute_result"
    }
   ],
   "source": [
    "mapdl.d('all','all','0')"
   ]
  },
  {
   "cell_type": "code",
   "execution_count": 52,
   "id": "c6bdceeb-d228-4a84-a4aa-1f25e1a0c2f0",
   "metadata": {},
   "outputs": [
    {
     "name": "stdout",
     "output_type": "stream",
     "text": [
      "[82, 87, 110]\n"
     ]
    },
    {
     "data": {
      "application/vnd.jupyter.widget-view+json": {
       "model_id": "0524c82406b941fca2d9073b0c2f6b6c",
       "version_major": 2,
       "version_minor": 0
      },
      "text/plain": [
       "Widget(value='<iframe src=\"http://localhost:58669/index.html?ui=P_0x137b3562d80_13&reconnect=auto\" class=\"pyvi…"
      ]
     },
     "metadata": {},
     "output_type": "display_data"
    },
    {
     "data": {
      "text/plain": [
       "array([   1,    2,    3, ..., 6557, 6558, 6559],\n",
       "      shape=(6307,), dtype=int32)"
      ]
     },
     "execution_count": 52,
     "metadata": {},
     "output_type": "execute_result"
    }
   ],
   "source": [
    "mapdl.nplot()\n",
    "mapdl.nsel('INVE')"
   ]
  },
  {
   "cell_type": "code",
   "execution_count": 53,
   "id": "8bd8dcae-bf64-4327-a245-0a3d5941a6fb",
   "metadata": {},
   "outputs": [
    {
     "data": {
      "text/plain": [
       "array([   2,   73,  102,  103,  104,  105,  106,  107,  108,  109,  110,\n",
       "        111,  112,  113,  114,  115,  116,  117,  118,  119,  120,  121,\n",
       "        122,  123,  124,  125,  126,  127,  128,  129,  130,  131,  132,\n",
       "        133,  134, 1171, 1235, 1271, 1272, 1273, 1274, 1275, 1276, 1277,\n",
       "       1278, 1279, 1280, 1281, 1282, 1283, 1284, 1285, 1286, 1287, 1288,\n",
       "       1289, 1290, 1291, 1292, 1293, 1294, 1295, 1296, 1297, 1298, 1299,\n",
       "       1300, 1301, 1302, 1303, 2373, 2374, 2375, 2376, 2377, 2378, 2379,\n",
       "       2380, 2381, 2382, 2383, 2384, 2385, 2386, 2387, 2388, 2389, 2390,\n",
       "       2391, 2392, 2393, 2394, 2395, 2396, 2397, 2398, 2399, 2400, 2401,\n",
       "       2402, 2403, 2404, 2405, 2406, 2407, 2408, 2409, 3042, 3043, 3044,\n",
       "       3045, 3046, 3047, 3048, 3049], dtype=int32)"
      ]
     },
     "execution_count": 53,
     "metadata": {},
     "output_type": "execute_result"
    }
   ],
   "source": [
    "mapdl.nsel('r','ext')"
   ]
  },
  {
   "cell_type": "code",
   "execution_count": 54,
   "id": "734d2928-4c90-4721-9c72-c61d4e188f76",
   "metadata": {},
   "outputs": [
    {
     "name": "stdout",
     "output_type": "stream",
     "text": [
      "[82, 87, 110]\n"
     ]
    },
    {
     "data": {
      "application/vnd.jupyter.widget-view+json": {
       "model_id": "9ee9ffdef4ef4a28bd34f72a883ac776",
       "version_major": 2,
       "version_minor": 0
      },
      "text/plain": [
       "Widget(value='<iframe src=\"http://localhost:58669/index.html?ui=P_0x137b9369cd0_14&reconnect=auto\" class=\"pyvi…"
      ]
     },
     "metadata": {},
     "output_type": "display_data"
    }
   ],
   "source": [
    "M = mapdl.mesh.nodes\n",
    "X_coord = np.array(M.T[0])\n",
    "Y_coord = np.array(M.T[1])\n",
    "Z_coord = np.array(M.T[2])\n",
    "\n",
    "X_mean = np.mean(X_coord)\n",
    "Y_mean = np.mean(Y_coord)\n",
    "Z_mean = np.mean(Z_coord)\n",
    "\n",
    "mapdl.n(1000000,X_mean,Y_mean,Z_mean)\n",
    "\n",
    "mapdl.nplot()"
   ]
  },
  {
   "cell_type": "code",
   "execution_count": 55,
   "id": "1fe979dd-81e9-4d19-9e8c-0448b7254cd4",
   "metadata": {},
   "outputs": [],
   "source": [
    "mapdl.type('2')\n",
    "mapdl.real('2')\n",
    "mapdl.e('1000000')"
   ]
  },
  {
   "cell_type": "code",
   "execution_count": 56,
   "id": "47cba61b-c743-402e-974b-f84b8c8e32be",
   "metadata": {},
   "outputs": [
    {
     "name": "stdout",
     "output_type": "stream",
     "text": [
      "[82, 87, 110]\n"
     ]
    },
    {
     "data": {
      "application/vnd.jupyter.widget-view+json": {
       "model_id": "9fa85161a6f9459aa3a7389bf887360c",
       "version_major": 2,
       "version_minor": 0
      },
      "text/plain": [
       "Widget(value='<iframe src=\"http://localhost:58669/index.html?ui=P_0x137b936a9c0_15&reconnect=auto\" class=\"pyvi…"
      ]
     },
     "metadata": {},
     "output_type": "display_data"
    }
   ],
   "source": [
    "#I created the remote point but have to connect with the other elements to get the connection\n",
    "mapdl.rbe3(1000000,'all','all')\n",
    "mapdl.eplot()"
   ]
  },
  {
   "cell_type": "code",
   "execution_count": 57,
   "id": "aa712e91-7995-4a4c-a4fa-f8229a9f8574",
   "metadata": {},
   "outputs": [
    {
     "name": "stdout",
     "output_type": "stream",
     "text": [
      "[82, 87, 110]\n"
     ]
    },
    {
     "data": {
      "application/vnd.jupyter.widget-view+json": {
       "model_id": "b4877169cc634cab99ace5fc42b9aa2e",
       "version_major": 2,
       "version_minor": 0
      },
      "text/plain": [
       "Widget(value='<iframe src=\"http://localhost:58669/index.html?ui=P_0x137c81d2570_16&reconnect=auto\" class=\"pyvi…"
      ]
     },
     "metadata": {},
     "output_type": "display_data"
    }
   ],
   "source": [
    "mapdl.allsel()\n",
    "mapdl.eplot()"
   ]
  },
  {
   "cell_type": "code",
   "execution_count": 73,
   "id": "782a9bd8-1d96-4e48-b743-179f68cce826",
   "metadata": {},
   "outputs": [],
   "source": [
    "import re\n",
    "import csv\n",
    "\n",
    "def save_csv(j, stresses):\n",
    "    \"\"\"\n",
    "    Saves stress data (from a list of lines or a string) to a CSV file for load case j.\n",
    "\n",
    "    Parameters:\n",
    "    - j: Load case index (used in file name).\n",
    "    - stresses: String or list of lines containing the stress data.\n",
    "    \"\"\"\n",
    "    # If stresses is a string, split it into lines\n",
    "    if isinstance(stresses, str):\n",
    "        lines = stresses.splitlines()\n",
    "    else:\n",
    "        lines = stresses\n",
    "\n",
    "    # Find the start of data table\n",
    "    data_start = 0\n",
    "    for i, line in enumerate(lines):\n",
    "        if line.strip().startswith('NODE'):\n",
    "            data_start = i + 1\n",
    "            break\n",
    "\n",
    "    # Parse numerical data\n",
    "    parsed_data = []\n",
    "    for line in lines[data_start:]:\n",
    "        line = line.strip()\n",
    "        if not line or line.startswith('*****'):\n",
    "            continue\n",
    "\n",
    "        # Extract numerical values using regex\n",
    "        values = re.findall(r'[-]?\\d*\\.\\d+E[+-]?\\d+|[-]?\\d*\\.\\d+|\\d+', line)\n",
    "        if len(values) >= 7:  # Ensure we have node + 6 stress components\n",
    "            try:\n",
    "                node = int(values[0])\n",
    "                stresses = [float(v) for v in values[1:7]]\n",
    "                parsed_data.append([node] + stresses)\n",
    "            except ValueError:\n",
    "                continue\n",
    "\n",
    "    # Save to CSV (correct file name: stresses1.csv, stresses2.csv, etc.)\n",
    "    with open(f'stresses{j+1}.csv', 'w', newline='') as f:\n",
    "        writer = csv.writer(f)\n",
    "        writer.writerow(['Node', 'SX', 'SY', 'SZ', 'SXY', 'SYZ', 'SXZ'])\n",
    "        writer.writerows(parsed_data)\n",
    "\n",
    "    print(f\"CSV file created: stresses{j+1}.csv\")\n"
   ]
  },
  {
   "cell_type": "code",
   "execution_count": 76,
   "id": "1e04bafa-b8f5-42f9-b72d-6d231316b435",
   "metadata": {},
   "outputs": [],
   "source": [
    "import pandas as pd\n",
    "forces = pd.read_csv('forces.csv')\n",
    "l = len(forces)"
   ]
  },
  {
   "cell_type": "code",
   "execution_count": 75,
   "id": "a72ef756-1bc0-4f41-9496-734f63162a59",
   "metadata": {},
   "outputs": [
    {
     "name": "stdout",
     "output_type": "stream",
     "text": [
      "CSV file created: stresses1.csv\n",
      "CSV file created: stresses2.csv\n",
      "CSV file created: stresses3.csv\n",
      "CSV file created: stresses4.csv\n",
      "CSV file created: stresses5.csv\n",
      "CSV file created: stresses6.csv\n"
     ]
    }
   ],
   "source": [
    "\n",
    "output_append = []\n",
    "for i in range(len(forces)):\n",
    "    mapdl.finish()\n",
    "    mapdl.slashsolu()\n",
    "    mapdl.antype(\"STATIC\")\n",
    "    mapdl.fdele(\"ALL\", \"ALL\")\n",
    "    mapdl.f(1000000, 'MZ', forces.iloc[i, 0])\n",
    "    mapdl.f(1000000, 'MY', forces.iloc[i, 1])\n",
    "    mapdl.f(1000000, 'MX', forces.iloc[i, 2])\n",
    "    mapdl.f(1000000, 'FX', forces.iloc[i, 3])\n",
    "    mapdl.f(1000000, 'FY', forces.iloc[i, 4])\n",
    "    mapdl.f(1000000, 'FZ', forces.iloc[i, 5])\n",
    "    output = mapdl.solve()\n",
    "    output_append.append(output)\n",
    "    mapdl.post1()\n",
    "    mapdl.set(\"LAST\")\n",
    "    stresses = mapdl.prnsol('s','comp')\n",
    "    save_csv(i,stresses)\n"
   ]
  },
  {
   "cell_type": "code",
   "execution_count": 77,
   "id": "0898e0c0-1c2e-4405-90d0-b96b15b1f583",
   "metadata": {},
   "outputs": [
    {
     "data": {
      "text/plain": [
       "EXIT THE MAPDL POST1 DATABASE PROCESSOR\n",
       "\n",
       "\n",
       " ***** ROUTINE COMPLETED *****  CP =         0.000"
      ]
     },
     "execution_count": 77,
     "metadata": {},
     "output_type": "execute_result"
    }
   ],
   "source": [
    "mapdl.finish()"
   ]
  },
  {
   "cell_type": "code",
   "execution_count": 78,
   "id": "ddac34ef-8b4e-4396-ad19-7c8ab8a746e5",
   "metadata": {},
   "outputs": [],
   "source": [
    "mapdl.exit()"
   ]
  },
  {
   "cell_type": "code",
   "execution_count": 94,
   "id": "8d598f7a-2cd6-4136-8bb4-1166d09dca9f",
   "metadata": {},
   "outputs": [
    {
     "data": {
      "text/plain": [
       "array([ 4023380., 36501550.,  2191796., ..., -5888750., 11562510.,\n",
       "       28575150.], shape=(6559,))"
      ]
     },
     "execution_count": 94,
     "metadata": {},
     "output_type": "execute_result"
    }
   ],
   "source": [
    "stresses = []\n",
    "\n",
    "for i in range(l):\n",
    "    df = pd.read_csv(f'stresses{i+1}.csv')  # assuming files are stresses1.csv, stresses2.csv, ...\n",
    "    stresses.append(df)\n",
    "\n",
    "n = len(stresses[0])  # number of rows\n",
    "\n",
    "Sx = np.zeros(n)\n",
    "Sy = np.zeros(n)\n",
    "Sz = np.zeros(n)\n",
    "Sxy = np.zeros(n)\n",
    "Syz = np.zeros(n)\n",
    "Sxz = np.zeros(n)\n",
    "\n",
    "for i in range(len(stresses)):\n",
    "    Sx += stresses[i].iloc[:, 1].to_numpy()\n",
    "    Sy += stresses[i].iloc[:, 2].to_numpy()\n",
    "    Sz += stresses[i].iloc[:, 3].to_numpy()\n",
    "    Sxy += stresses[i].iloc[:, 4].to_numpy()\n",
    "    Syz += stresses[i].iloc[:, 5].to_numpy()\n",
    "    Sxz += stresses[i].iloc[:, 6].to_numpy()"
   ]
  },
  {
   "cell_type": "code",
   "execution_count": 96,
   "id": "9b664dbb-9b1f-47f1-9258-156607507e72",
   "metadata": {},
   "outputs": [
    {
     "name": "stdout",
     "output_type": "stream",
     "text": [
      "CSV file saved as SuperPosition_of_stresses.csv\n"
     ]
    }
   ],
   "source": [
    "nodes = stresses[0].iloc[:, 0]\n",
    "\n",
    "# Create the new combined DataFrame\n",
    "combined_df = pd.DataFrame({\n",
    "    'Node': nodes,\n",
    "    'Sx': Sx,\n",
    "    'Sy': Sy,\n",
    "    'Sz': Sz,\n",
    "    'Sxy': Sxy,\n",
    "    'Syz': Syz,\n",
    "    'Sxz': Sxz\n",
    "})\n",
    "combined_df.to_csv('SuperPosition_of_stresses.csv', index=False)\n",
    "print(\"CSV file saved as SuperPosition_of_stresses.csv\")"
   ]
  },
  {
   "cell_type": "code",
   "execution_count": 98,
   "id": "5a18ffee-c5be-41dc-a33c-ba841bdfcacd",
   "metadata": {},
   "outputs": [],
   "source": [
    "# Load the components_nodes.csv file\n",
    "components_nodes = pd.read_csv('components_nodes.csv')\n",
    "\n",
    "# Load the SuperPosition_of_stresses.csv file\n",
    "superpositioned_stresses = pd.read_csv('SuperPosition_of_stresses.csv')\n",
    "\n",
    "# Filter the superpositioned stresses for nodes listed in components_nodes\n",
    "filtered_stresses = superpositioned_stresses[superpositioned_stresses['Node'].isin(components_nodes['Node'])]\n",
    "\n",
    "# Merge the filtered stresses with components_nodes to get the component info\n",
    "merged_data = pd.merge(components_nodes, filtered_stresses, left_on='Node', right_on='Node')\n",
    "\n",
    "# Select relevant columns: Component, Node, and directional stresses\n",
    "result = merged_data[['Component', 'Node', 'Sx', 'Sy', 'Sz', 'Sxy', 'Syz', 'Sxz']]\n",
    "\n",
    "# Write the result to a new CSV file\n",
    "result.to_csv('Final_superpositioned_stresses.csv', index=False)\n"
   ]
  },
  {
   "cell_type": "code",
   "execution_count": null,
   "id": "140b4680-273c-49da-b0d2-121f1e637f8f",
   "metadata": {},
   "outputs": [],
   "source": []
  }
 ],
 "metadata": {
  "kernelspec": {
   "display_name": "PyGKN (m)",
   "language": "python",
   "name": "pygkn-m"
  },
  "language_info": {
   "codemirror_mode": {
    "name": "ipython",
    "version": 3
   },
   "file_extension": ".py",
   "mimetype": "text/x-python",
   "name": "python",
   "nbconvert_exporter": "python",
   "pygments_lexer": "ipython3",
   "version": "3.12.5"
  }
 },
 "nbformat": 4,
 "nbformat_minor": 5
}
